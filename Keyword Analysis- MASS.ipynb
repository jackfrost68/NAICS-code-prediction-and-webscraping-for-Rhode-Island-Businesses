{
 "cells": [
  {
   "cell_type": "code",
   "execution_count": 1,
   "id": "575945e8",
   "metadata": {},
   "outputs": [],
   "source": [
    "import requests\n",
    "import pandas as pd\n",
    "from bs4 import BeautifulSoup\n",
    "import spacy\n",
    "import re\n",
    "import pandas as pd\n",
    "import requests\n",
    "from bs4 import BeautifulSoup\n",
    "import time\n",
    "from selenium import webdriver\n",
    "from googlesearch import search"
   ]
  },
  {
   "cell_type": "code",
   "execution_count": 2,
   "id": "9153a245",
   "metadata": {},
   "outputs": [],
   "source": [
    "df = pd.read_csv(\"/Users/jacobnyamu/Desktop/Spring 2023/Advanced Programming - Python/NTerprisers /100 Corporations.csv\")"
   ]
  },
  {
   "cell_type": "code",
   "execution_count": 3,
   "id": "9ca18874",
   "metadata": {},
   "outputs": [
    {
     "data": {
      "text/plain": [
       "0      Domestic Profit Corporation\n",
       "1      Domestic Profit Corporation\n",
       "2      Domestic Profit Corporation\n",
       "3      Domestic Profit Corporation\n",
       "4      Domestic Profit Corporation\n",
       "                  ...             \n",
       "95    Domestic Benefit Corporation\n",
       "96    Domestic Benefit Corporation\n",
       "97    Domestic Benefit Corporation\n",
       "98    Domestic Benefit Corporation\n",
       "99    Domestic Benefit Corporation\n",
       "Name: EntityTypeDescriptor, Length: 100, dtype: object"
      ]
     },
     "execution_count": 3,
     "metadata": {},
     "output_type": "execute_result"
    }
   ],
   "source": [
    "df.pop('EntityTypeDescriptor')"
   ]
  },
  {
   "cell_type": "code",
   "execution_count": 4,
   "id": "9fbf3a1a",
   "metadata": {},
   "outputs": [
    {
     "data": {
      "text/html": [
       "<div>\n",
       "<style scoped>\n",
       "    .dataframe tbody tr th:only-of-type {\n",
       "        vertical-align: middle;\n",
       "    }\n",
       "\n",
       "    .dataframe tbody tr th {\n",
       "        vertical-align: top;\n",
       "    }\n",
       "\n",
       "    .dataframe thead th {\n",
       "        text-align: right;\n",
       "    }\n",
       "</style>\n",
       "<table border=\"1\" class=\"dataframe\">\n",
       "  <thead>\n",
       "    <tr style=\"text-align: right;\">\n",
       "      <th></th>\n",
       "      <th>entityname</th>\n",
       "    </tr>\n",
       "  </thead>\n",
       "  <tbody>\n",
       "    <tr>\n",
       "      <th>0</th>\n",
       "      <td>THE DOVER HOLDINGS, INC</td>\n",
       "    </tr>\n",
       "    <tr>\n",
       "      <th>1</th>\n",
       "      <td>JASON M. CHARETTE AGENCY, INC.</td>\n",
       "    </tr>\n",
       "    <tr>\n",
       "      <th>2</th>\n",
       "      <td>PATHWAY DRUG DEVELOPMENT CONSULTING INC.</td>\n",
       "    </tr>\n",
       "    <tr>\n",
       "      <th>3</th>\n",
       "      <td>MARTY'S LOCAL, INC.</td>\n",
       "    </tr>\n",
       "    <tr>\n",
       "      <th>4</th>\n",
       "      <td>WARNER FARM, INC.</td>\n",
       "    </tr>\n",
       "  </tbody>\n",
       "</table>\n",
       "</div>"
      ],
      "text/plain": [
       "                                 entityname\n",
       "0                   THE DOVER HOLDINGS, INC\n",
       "1            JASON M. CHARETTE AGENCY, INC.\n",
       "2  PATHWAY DRUG DEVELOPMENT CONSULTING INC.\n",
       "3                       MARTY'S LOCAL, INC.\n",
       "4                         WARNER FARM, INC."
      ]
     },
     "execution_count": 4,
     "metadata": {},
     "output_type": "execute_result"
    }
   ],
   "source": [
    "df.head()"
   ]
  },
  {
   "cell_type": "code",
   "execution_count": 5,
   "id": "7f1cf71c",
   "metadata": {},
   "outputs": [],
   "source": [
    "df2 = df.truncate(before=0, after=21)"
   ]
  },
  {
   "cell_type": "code",
   "execution_count": 6,
   "id": "234c2c7f",
   "metadata": {},
   "outputs": [
    {
     "data": {
      "text/html": [
       "<div>\n",
       "<style scoped>\n",
       "    .dataframe tbody tr th:only-of-type {\n",
       "        vertical-align: middle;\n",
       "    }\n",
       "\n",
       "    .dataframe tbody tr th {\n",
       "        vertical-align: top;\n",
       "    }\n",
       "\n",
       "    .dataframe thead th {\n",
       "        text-align: right;\n",
       "    }\n",
       "</style>\n",
       "<table border=\"1\" class=\"dataframe\">\n",
       "  <thead>\n",
       "    <tr style=\"text-align: right;\">\n",
       "      <th></th>\n",
       "      <th>entityname</th>\n",
       "    </tr>\n",
       "  </thead>\n",
       "  <tbody>\n",
       "    <tr>\n",
       "      <th>0</th>\n",
       "      <td>THE DOVER HOLDINGS, INC</td>\n",
       "    </tr>\n",
       "    <tr>\n",
       "      <th>1</th>\n",
       "      <td>JASON M. CHARETTE AGENCY, INC.</td>\n",
       "    </tr>\n",
       "    <tr>\n",
       "      <th>2</th>\n",
       "      <td>PATHWAY DRUG DEVELOPMENT CONSULTING INC.</td>\n",
       "    </tr>\n",
       "    <tr>\n",
       "      <th>3</th>\n",
       "      <td>MARTY'S LOCAL, INC.</td>\n",
       "    </tr>\n",
       "    <tr>\n",
       "      <th>4</th>\n",
       "      <td>WARNER FARM, INC.</td>\n",
       "    </tr>\n",
       "    <tr>\n",
       "      <th>5</th>\n",
       "      <td>CRAFTWAY CONTRACTING, INC.</td>\n",
       "    </tr>\n",
       "    <tr>\n",
       "      <th>6</th>\n",
       "      <td>TINY SPOON CHEF, INC.</td>\n",
       "    </tr>\n",
       "    <tr>\n",
       "      <th>7</th>\n",
       "      <td>COMMUNITY BANCORP OF THE BERKSHIRES, INC.</td>\n",
       "    </tr>\n",
       "    <tr>\n",
       "      <th>8</th>\n",
       "      <td>SURGO CORPORATION</td>\n",
       "    </tr>\n",
       "    <tr>\n",
       "      <th>9</th>\n",
       "      <td>HATFIELD CONSTRUCTION, INC.</td>\n",
       "    </tr>\n",
       "    <tr>\n",
       "      <th>10</th>\n",
       "      <td>SCOPIC, INC</td>\n",
       "    </tr>\n",
       "    <tr>\n",
       "      <th>11</th>\n",
       "      <td>DUBBYA DIESEL, INC</td>\n",
       "    </tr>\n",
       "    <tr>\n",
       "      <th>12</th>\n",
       "      <td>RELATIONAL LIFE INSTITUTE, INC.</td>\n",
       "    </tr>\n",
       "    <tr>\n",
       "      <th>13</th>\n",
       "      <td>LOCAL FLOW LOGISTICS, INC.</td>\n",
       "    </tr>\n",
       "    <tr>\n",
       "      <th>14</th>\n",
       "      <td>HUGE REAL ESTATE, INC.</td>\n",
       "    </tr>\n",
       "    <tr>\n",
       "      <th>15</th>\n",
       "      <td>MJK TAEKWONDO, INC.</td>\n",
       "    </tr>\n",
       "    <tr>\n",
       "      <th>16</th>\n",
       "      <td>MAY TAX SERVICES, INC.</td>\n",
       "    </tr>\n",
       "    <tr>\n",
       "      <th>17</th>\n",
       "      <td>ARCADIA PROFESSIONAL BODY PIERCING, INC.</td>\n",
       "    </tr>\n",
       "    <tr>\n",
       "      <th>18</th>\n",
       "      <td>APEX BAR AND LOUNGE INC.</td>\n",
       "    </tr>\n",
       "    <tr>\n",
       "      <th>19</th>\n",
       "      <td>EESCO HOLDINGS, INC.</td>\n",
       "    </tr>\n",
       "    <tr>\n",
       "      <th>20</th>\n",
       "      <td>VESTA RP DEVELOPMENT, INC</td>\n",
       "    </tr>\n",
       "    <tr>\n",
       "      <th>21</th>\n",
       "      <td>MENG'S ENTERPRISES CORP</td>\n",
       "    </tr>\n",
       "  </tbody>\n",
       "</table>\n",
       "</div>"
      ],
      "text/plain": [
       "                                   entityname\n",
       "0                     THE DOVER HOLDINGS, INC\n",
       "1              JASON M. CHARETTE AGENCY, INC.\n",
       "2    PATHWAY DRUG DEVELOPMENT CONSULTING INC.\n",
       "3                         MARTY'S LOCAL, INC.\n",
       "4                           WARNER FARM, INC.\n",
       "5                  CRAFTWAY CONTRACTING, INC.\n",
       "6                       TINY SPOON CHEF, INC.\n",
       "7   COMMUNITY BANCORP OF THE BERKSHIRES, INC.\n",
       "8                           SURGO CORPORATION\n",
       "9                 HATFIELD CONSTRUCTION, INC.\n",
       "10                                SCOPIC, INC\n",
       "11                         DUBBYA DIESEL, INC\n",
       "12            RELATIONAL LIFE INSTITUTE, INC.\n",
       "13                 LOCAL FLOW LOGISTICS, INC.\n",
       "14                     HUGE REAL ESTATE, INC.\n",
       "15                        MJK TAEKWONDO, INC.\n",
       "16                     MAY TAX SERVICES, INC.\n",
       "17   ARCADIA PROFESSIONAL BODY PIERCING, INC.\n",
       "18                   APEX BAR AND LOUNGE INC.\n",
       "19                       EESCO HOLDINGS, INC.\n",
       "20                  VESTA RP DEVELOPMENT, INC\n",
       "21                    MENG'S ENTERPRISES CORP"
      ]
     },
     "execution_count": 6,
     "metadata": {},
     "output_type": "execute_result"
    }
   ],
   "source": [
    "df2.head(26)"
   ]
  },
  {
   "cell_type": "code",
   "execution_count": 7,
   "id": "9f142a33",
   "metadata": {
    "scrolled": false
   },
   "outputs": [
    {
     "ename": "HTTPError",
     "evalue": "429 Client Error: Too Many Requests for url: https://www.google.com/sorry/index?continue=https://www.google.com/search%3Fq%3DTHE%252BDOVER%252BHOLDINGS%252C%252BINC%26num%3D3%26hl%3Den%26start%3D0&hl=en&q=EhAmAEBAUPbuAHgYq3XuloO4GID9lKIGIjDDE966IbEaiRkpSyBNxdp_upG0W6oqZ0yXmic9vWVLs8oQOVLquF7ZJSmOLRShDa4yAXI",
     "output_type": "error",
     "traceback": [
      "\u001b[0;31m---------------------------------------------------------------------------\u001b[0m",
      "\u001b[0;31mHTTPError\u001b[0m                                 Traceback (most recent call last)",
      "Cell \u001b[0;32mIn[7], line 5\u001b[0m\n\u001b[1;32m      3\u001b[0m \u001b[38;5;28;01mfor\u001b[39;00m index, row \u001b[38;5;129;01min\u001b[39;00m df2\u001b[38;5;241m.\u001b[39miterrows():\n\u001b[1;32m      4\u001b[0m     query \u001b[38;5;241m=\u001b[39m row[\u001b[38;5;124m'\u001b[39m\u001b[38;5;124mentityname\u001b[39m\u001b[38;5;124m'\u001b[39m] \n\u001b[0;32m----> 5\u001b[0m     result \u001b[38;5;241m=\u001b[39m \u001b[38;5;28;43mnext\u001b[39;49m\u001b[43m(\u001b[49m\u001b[43msearch\u001b[49m\u001b[43m(\u001b[49m\u001b[43mquery\u001b[49m\u001b[43m,\u001b[49m\u001b[43m \u001b[49m\u001b[43mnum_results\u001b[49m\u001b[38;5;241;43m=\u001b[39;49m\u001b[38;5;241;43m1\u001b[39;49m\u001b[43m,\u001b[49m\u001b[43m \u001b[49m\u001b[43msleep_interval\u001b[49m\u001b[38;5;241;43m=\u001b[39;49m\u001b[38;5;241;43m0.5\u001b[39;49m\u001b[43m)\u001b[49m\u001b[43m,\u001b[49m\u001b[43m \u001b[49m\u001b[38;5;28;43;01mNone\u001b[39;49;00m\u001b[43m)\u001b[49m\n\u001b[1;32m      6\u001b[0m     \u001b[38;5;28;01mif\u001b[39;00m result:\n\u001b[1;32m      7\u001b[0m         \u001b[38;5;28mprint\u001b[39m(\u001b[38;5;124mf\u001b[39m\u001b[38;5;124m\"\u001b[39m\u001b[38;5;132;01m{\u001b[39;00mindex\u001b[38;5;132;01m}\u001b[39;00m\u001b[38;5;124m: \u001b[39m\u001b[38;5;124m'\u001b[39m\u001b[38;5;132;01m{\u001b[39;00mquery\u001b[38;5;132;01m}\u001b[39;00m\u001b[38;5;124m'\u001b[39m\u001b[38;5;124m found at \u001b[39m\u001b[38;5;124m'\u001b[39m\u001b[38;5;132;01m{\u001b[39;00mresult\u001b[38;5;132;01m}\u001b[39;00m\u001b[38;5;124m'\u001b[39m\u001b[38;5;124m\"\u001b[39m)\n",
      "File \u001b[0;32m~/anaconda3/lib/python3.10/site-packages/googlesearch/__init__.py:54\u001b[0m, in \u001b[0;36msearch\u001b[0;34m(term, num_results, lang, proxy, advanced, sleep_interval, timeout)\u001b[0m\n\u001b[1;32m     51\u001b[0m start \u001b[38;5;241m=\u001b[39m \u001b[38;5;241m0\u001b[39m\n\u001b[1;32m     52\u001b[0m \u001b[38;5;28;01mwhile\u001b[39;00m start \u001b[38;5;241m<\u001b[39m num_results:\n\u001b[1;32m     53\u001b[0m     \u001b[38;5;66;03m# Send request\u001b[39;00m\n\u001b[0;32m---> 54\u001b[0m     resp \u001b[38;5;241m=\u001b[39m \u001b[43m_req\u001b[49m\u001b[43m(\u001b[49m\u001b[43mescaped_term\u001b[49m\u001b[43m,\u001b[49m\u001b[43m \u001b[49m\u001b[43mnum_results\u001b[49m\u001b[43m \u001b[49m\u001b[38;5;241;43m-\u001b[39;49m\u001b[43m \u001b[49m\u001b[43mstart\u001b[49m\u001b[43m,\u001b[49m\n\u001b[1;32m     55\u001b[0m \u001b[43m                \u001b[49m\u001b[43mlang\u001b[49m\u001b[43m,\u001b[49m\u001b[43m \u001b[49m\u001b[43mstart\u001b[49m\u001b[43m,\u001b[49m\u001b[43m \u001b[49m\u001b[43mproxies\u001b[49m\u001b[43m,\u001b[49m\u001b[43m \u001b[49m\u001b[43mtimeout\u001b[49m\u001b[43m)\u001b[49m\n\u001b[1;32m     57\u001b[0m     \u001b[38;5;66;03m# Parse\u001b[39;00m\n\u001b[1;32m     58\u001b[0m     soup \u001b[38;5;241m=\u001b[39m BeautifulSoup(resp\u001b[38;5;241m.\u001b[39mtext, \u001b[38;5;124m\"\u001b[39m\u001b[38;5;124mhtml.parser\u001b[39m\u001b[38;5;124m\"\u001b[39m)\n",
      "File \u001b[0;32m~/anaconda3/lib/python3.10/site-packages/googlesearch/__init__.py:23\u001b[0m, in \u001b[0;36m_req\u001b[0;34m(term, results, lang, start, proxies, timeout)\u001b[0m\n\u001b[1;32m      8\u001b[0m \u001b[38;5;28;01mdef\u001b[39;00m \u001b[38;5;21m_req\u001b[39m(term, results, lang, start, proxies, timeout):\n\u001b[1;32m      9\u001b[0m     resp \u001b[38;5;241m=\u001b[39m get(\n\u001b[1;32m     10\u001b[0m         url\u001b[38;5;241m=\u001b[39m\u001b[38;5;124m\"\u001b[39m\u001b[38;5;124mhttps://www.google.com/search\u001b[39m\u001b[38;5;124m\"\u001b[39m,\n\u001b[1;32m     11\u001b[0m         headers\u001b[38;5;241m=\u001b[39m{\n\u001b[0;32m   (...)\u001b[0m\n\u001b[1;32m     21\u001b[0m         timeout\u001b[38;5;241m=\u001b[39mtimeout,\n\u001b[1;32m     22\u001b[0m     )\n\u001b[0;32m---> 23\u001b[0m     \u001b[43mresp\u001b[49m\u001b[38;5;241;43m.\u001b[39;49m\u001b[43mraise_for_status\u001b[49m\u001b[43m(\u001b[49m\u001b[43m)\u001b[49m\n\u001b[1;32m     24\u001b[0m     \u001b[38;5;28;01mreturn\u001b[39;00m resp\n",
      "File \u001b[0;32m~/anaconda3/lib/python3.10/site-packages/requests/models.py:1021\u001b[0m, in \u001b[0;36mResponse.raise_for_status\u001b[0;34m(self)\u001b[0m\n\u001b[1;32m   1016\u001b[0m     http_error_msg \u001b[38;5;241m=\u001b[39m (\n\u001b[1;32m   1017\u001b[0m         \u001b[38;5;124mf\u001b[39m\u001b[38;5;124m\"\u001b[39m\u001b[38;5;132;01m{\u001b[39;00m\u001b[38;5;28mself\u001b[39m\u001b[38;5;241m.\u001b[39mstatus_code\u001b[38;5;132;01m}\u001b[39;00m\u001b[38;5;124m Server Error: \u001b[39m\u001b[38;5;132;01m{\u001b[39;00mreason\u001b[38;5;132;01m}\u001b[39;00m\u001b[38;5;124m for url: \u001b[39m\u001b[38;5;132;01m{\u001b[39;00m\u001b[38;5;28mself\u001b[39m\u001b[38;5;241m.\u001b[39murl\u001b[38;5;132;01m}\u001b[39;00m\u001b[38;5;124m\"\u001b[39m\n\u001b[1;32m   1018\u001b[0m     )\n\u001b[1;32m   1020\u001b[0m \u001b[38;5;28;01mif\u001b[39;00m http_error_msg:\n\u001b[0;32m-> 1021\u001b[0m     \u001b[38;5;28;01mraise\u001b[39;00m HTTPError(http_error_msg, response\u001b[38;5;241m=\u001b[39m\u001b[38;5;28mself\u001b[39m)\n",
      "\u001b[0;31mHTTPError\u001b[0m: 429 Client Error: Too Many Requests for url: https://www.google.com/sorry/index?continue=https://www.google.com/search%3Fq%3DTHE%252BDOVER%252BHOLDINGS%252C%252BINC%26num%3D3%26hl%3Den%26start%3D0&hl=en&q=EhAmAEBAUPbuAHgYq3XuloO4GID9lKIGIjDDE966IbEaiRkpSyBNxdp_upG0W6oqZ0yXmic9vWVLs8oQOVLquF7ZJSmOLRShDa4yAXI"
     ]
    }
   ],
   "source": [
    "# Iterate over each row in the data frame, perform a Google search using the row data, and print the URL of the top result    \n",
    "table = []\n",
    "for index, row in df2.iterrows():\n",
    "    query = row['entityname'] \n",
    "    result = next(search(query, num_results=1, sleep_interval=0.5), None)\n",
    "    if result:\n",
    "        print(f\"{index}: '{query}' found at '{result}'\")\n",
    "        table.append([query, result])\n"
   ]
  },
  {
   "cell_type": "code",
   "execution_count": null,
   "id": "55e80306",
   "metadata": {},
   "outputs": [],
   "source": [
    "urls = pd.DataFrame(table)"
   ]
  },
  {
   "cell_type": "code",
   "execution_count": null,
   "id": "cea18d6b",
   "metadata": {},
   "outputs": [],
   "source": [
    "urls.head(20)"
   ]
  },
  {
   "cell_type": "code",
   "execution_count": null,
   "id": "d0111700",
   "metadata": {},
   "outputs": [],
   "source": [
    "urls.set_axis(['Business', 'URL'], axis='columns', inplace=True)"
   ]
  },
  {
   "cell_type": "code",
   "execution_count": null,
   "id": "b47f5441",
   "metadata": {},
   "outputs": [],
   "source": [
    "urls.head()"
   ]
  },
  {
   "cell_type": "code",
   "execution_count": null,
   "id": "4d561237",
   "metadata": {},
   "outputs": [],
   "source": [
    "# Defining keywords related to manufacturing\n",
    "keywords = [\n",
    "    \"manufacturing\", \"production\", \"factory\", \"industry\", \"industrial\", \"machinery\",\n",
    "    \"assembly\", \"fabrication\", \"plant\", \"workshop\", \"process\", \"machining\",\n",
    "    \"milling\", \"turning\", \"forging\", \"casting\", \"molding\", \"extrusion\",\n",
    "    \"welding\", \"cutting\", \"grinding\", \"lathing\", \"drilling\", \"pressing\",\n",
    "    \"forming\", \"stamping\", \"additive\", \"3D printing\", \"injection molding\",\n",
    "    \"blow molding\", \"rotational molding\", \"thermoforming\", \"vacuum forming\",\n",
    "    \"die casting\", \"sand casting\", \"investment casting\", \"lost-wax casting\",\n",
    "    \"cold rolling\", \"hot rolling\", \"slitting\", \"annealing\", \"heat treatment\",\n",
    "    \"sheet metal\", \"metallurgy\", \"electroplating\", \"galvanizing\", \"coating\",\n",
    "    \"powder coating\", \"anodizing\", \"painting\", \"finishing\", \"quality control\",\n",
    "    \"CNC\", \"computer numerical control\", \"tooling\", \"fixtures\", \"jigs\",\n",
    "    \"material handling\", \"automation\", \"robotics\", \"conveyor\", \"packaging\",\n",
    "    \"lean manufacturing\", \"just-in-time\", \"six sigma\", \"continuous improvement\",\n",
    "    \"mass production\", \"batch production\", \"job production\", \"assembling\",\n",
    "    \"subassembly\", \"raw material\", \"work in progress\", \"finished goods\",\n",
    "    \"inventory\", \"supply chain\", \"logistics\", \"procurement\", \"sourcing\",\n",
    "    \"OEM\", \"original equipment manufacturer\", \"contract manufacturing\",\n",
    "    \"outsourcing\", \"offshoring\", \"ISO 9001\", \"ISO 14001\", \"quality management\",\n",
    "    \"environmental management\", \"safety\", \"compliance\", \"regulation\"\n",
    "]"
   ]
  },
  {
   "cell_type": "code",
   "execution_count": null,
   "id": "0df83231",
   "metadata": {},
   "outputs": [],
   "source": [
    "# Load the spaCy model\n",
    "nlp = spacy.load(\"en_core_web_sm\")\n",
    "\n",
    "# Clean the text by removing unnecessary characters\n",
    "def clean_text(text):\n",
    "    text = re.sub(r'\\s+', ' ', text)\n",
    "    return text.strip()\n",
    "\n",
    "# Scrape the website and extract the text\n",
    "def scrape_website(url):\n",
    "    try:\n",
    "        response = requests.get(url)\n",
    "        response.raise_for_status()\n",
    "\n",
    "        soup = BeautifulSoup(response.text, \"html.parser\")\n",
    "        texts = ' '.join([clean_text(p.text) for p in soup.find_all('p')])\n",
    "\n",
    "        return texts\n",
    "    except requests.exceptions.RequestException as e:\n",
    "        print(f\"Error: {e}\")\n",
    "        return \"\"\n",
    "\n",
    "# Check if the website is related to manufacturing\n",
    "def is_manufacturing_website(text, keywords):\n",
    "    doc = nlp(text.lower())\n",
    "\n",
    "    for keyword in keywords:\n",
    "        if keyword in doc.text:\n",
    "            return True\n",
    "\n",
    "    return False\n",
    "\n",
    "# Creating an empty list to store the results\n",
    "results = [] \n",
    "    \n",
    "for website in urls.URL:\n",
    "    text = scrape_website(website)\n",
    "    if is_manufacturing_website(text, keywords):\n",
    "        result = {\"Business\": urls.Business, \"Manufacturing\": True}\n",
    "    else:\n",
    "        result = {\"Business\": urls.Business, \"Manufacturing\": False}\n",
    "    results.append(result)\n",
    "\n",
    "        \n",
    "urls_verified = pd.DataFrame(results)"
   ]
  },
  {
   "cell_type": "code",
   "execution_count": null,
   "id": "b5ecd102",
   "metadata": {},
   "outputs": [],
   "source": [
    "urls_verified.head(30)"
   ]
  },
  {
   "cell_type": "code",
   "execution_count": null,
   "id": "a3cbb29b",
   "metadata": {},
   "outputs": [],
   "source": [
    "final_output = pd.concat([df2, urls_verified], axis=1)\n",
    "final_output.head()"
   ]
  },
  {
   "cell_type": "code",
   "execution_count": null,
   "id": "557ffc11",
   "metadata": {},
   "outputs": [],
   "source": [
    "final_output.pop('Business')\n",
    "final_output.head()"
   ]
  },
  {
   "cell_type": "code",
   "execution_count": null,
   "id": "4ef60726",
   "metadata": {},
   "outputs": [],
   "source": [
    "final_output.to_csv('Final_output_MASS.csv')"
   ]
  }
 ],
 "metadata": {
  "kernelspec": {
   "display_name": "Python 3 (ipykernel)",
   "language": "python",
   "name": "python3"
  },
  "language_info": {
   "codemirror_mode": {
    "name": "ipython",
    "version": 3
   },
   "file_extension": ".py",
   "mimetype": "text/x-python",
   "name": "python",
   "nbconvert_exporter": "python",
   "pygments_lexer": "ipython3",
   "version": "3.10.9"
  }
 },
 "nbformat": 4,
 "nbformat_minor": 5
}
